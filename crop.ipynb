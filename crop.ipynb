{
 "cells": [
  {
   "cell_type": "code",
   "execution_count": 1,
   "id": "0040ee08",
   "metadata": {},
   "outputs": [],
   "source": [
    "import pandas as pd\n",
    "import numpy as np\n",
    "import matplotlib.pyplot as plt\n",
    "import seaborn as sns"
   ]
  },
  {
   "cell_type": "code",
   "execution_count": 2,
   "id": "edddb09f",
   "metadata": {},
   "outputs": [
    {
     "data": {
      "text/html": [
       "<div>\n",
       "<style scoped>\n",
       "    .dataframe tbody tr th:only-of-type {\n",
       "        vertical-align: middle;\n",
       "    }\n",
       "\n",
       "    .dataframe tbody tr th {\n",
       "        vertical-align: top;\n",
       "    }\n",
       "\n",
       "    .dataframe thead th {\n",
       "        text-align: right;\n",
       "    }\n",
       "</style>\n",
       "<table border=\"1\" class=\"dataframe\">\n",
       "  <thead>\n",
       "    <tr style=\"text-align: right;\">\n",
       "      <th></th>\n",
       "      <th>N</th>\n",
       "      <th>P</th>\n",
       "      <th>K</th>\n",
       "      <th>temperature</th>\n",
       "      <th>humidity</th>\n",
       "      <th>ph</th>\n",
       "      <th>rainfall</th>\n",
       "      <th>label</th>\n",
       "    </tr>\n",
       "  </thead>\n",
       "  <tbody>\n",
       "    <tr>\n",
       "      <th>0</th>\n",
       "      <td>90</td>\n",
       "      <td>42</td>\n",
       "      <td>43</td>\n",
       "      <td>21</td>\n",
       "      <td>82</td>\n",
       "      <td>6.5</td>\n",
       "      <td>203</td>\n",
       "      <td>rice</td>\n",
       "    </tr>\n",
       "    <tr>\n",
       "      <th>1</th>\n",
       "      <td>85</td>\n",
       "      <td>58</td>\n",
       "      <td>41</td>\n",
       "      <td>22</td>\n",
       "      <td>80</td>\n",
       "      <td>7.0</td>\n",
       "      <td>227</td>\n",
       "      <td>rice</td>\n",
       "    </tr>\n",
       "    <tr>\n",
       "      <th>2</th>\n",
       "      <td>60</td>\n",
       "      <td>55</td>\n",
       "      <td>44</td>\n",
       "      <td>23</td>\n",
       "      <td>82</td>\n",
       "      <td>7.8</td>\n",
       "      <td>264</td>\n",
       "      <td>rice</td>\n",
       "    </tr>\n",
       "    <tr>\n",
       "      <th>3</th>\n",
       "      <td>74</td>\n",
       "      <td>35</td>\n",
       "      <td>40</td>\n",
       "      <td>26</td>\n",
       "      <td>80</td>\n",
       "      <td>7.0</td>\n",
       "      <td>243</td>\n",
       "      <td>rice</td>\n",
       "    </tr>\n",
       "    <tr>\n",
       "      <th>4</th>\n",
       "      <td>78</td>\n",
       "      <td>42</td>\n",
       "      <td>42</td>\n",
       "      <td>20</td>\n",
       "      <td>82</td>\n",
       "      <td>7.6</td>\n",
       "      <td>263</td>\n",
       "      <td>rice</td>\n",
       "    </tr>\n",
       "  </tbody>\n",
       "</table>\n",
       "</div>"
      ],
      "text/plain": [
       "    N   P   K  temperature  humidity   ph  rainfall label\n",
       "0  90  42  43           21        82  6.5       203  rice\n",
       "1  85  58  41           22        80  7.0       227  rice\n",
       "2  60  55  44           23        82  7.8       264  rice\n",
       "3  74  35  40           26        80  7.0       243  rice\n",
       "4  78  42  42           20        82  7.6       263  rice"
      ]
     },
     "execution_count": 2,
     "metadata": {},
     "output_type": "execute_result"
    }
   ],
   "source": [
    "df = pd.read_csv('crop.csv')\n",
    "df.head()"
   ]
  },
  {
   "cell_type": "code",
   "execution_count": 3,
   "id": "2a53988c",
   "metadata": {},
   "outputs": [
    {
     "data": {
      "text/plain": [
       "(2200, 8)"
      ]
     },
     "execution_count": 3,
     "metadata": {},
     "output_type": "execute_result"
    }
   ],
   "source": [
    "df.shape"
   ]
  },
  {
   "cell_type": "code",
   "execution_count": 4,
   "id": "4eb51cf7",
   "metadata": {},
   "outputs": [
    {
     "data": {
      "text/plain": [
       "N              0\n",
       "P              0\n",
       "K              0\n",
       "temperature    0\n",
       "humidity       0\n",
       "ph             0\n",
       "rainfall       0\n",
       "label          0\n",
       "dtype: int64"
      ]
     },
     "execution_count": 4,
     "metadata": {},
     "output_type": "execute_result"
    }
   ],
   "source": [
    "df.isnull().sum()"
   ]
  },
  {
   "cell_type": "code",
   "execution_count": 5,
   "id": "f8a17022",
   "metadata": {},
   "outputs": [
    {
     "data": {
      "text/plain": [
       "rice           100\n",
       "maize          100\n",
       "jute           100\n",
       "cotton         100\n",
       "coconut        100\n",
       "papaya         100\n",
       "orange         100\n",
       "apple          100\n",
       "muskmelon      100\n",
       "watermelon     100\n",
       "grapes         100\n",
       "mango          100\n",
       "banana         100\n",
       "pomegranate    100\n",
       "lentil         100\n",
       "blackgram      100\n",
       "mungbean       100\n",
       "mothbeans      100\n",
       "pigeonpeas     100\n",
       "kidneybeans    100\n",
       "chickpea       100\n",
       "coffee         100\n",
       "Name: label, dtype: int64"
      ]
     },
     "execution_count": 5,
     "metadata": {},
     "output_type": "execute_result"
    }
   ],
   "source": [
    "df['label'].value_counts()"
   ]
  },
  {
   "cell_type": "code",
   "execution_count": 6,
   "id": "b94dbc13",
   "metadata": {},
   "outputs": [
    {
     "name": "stdout",
     "output_type": "stream",
     "text": [
      "Average Ratio in the Soil:\n",
      "Nitrogen :  50.551818181818184\n",
      "Pott :  48.14909090909091\n",
      "Possop :  53.36272727272727\n",
      "Temp :  25.61318181818182\n",
      "Humidity :  71.48272727272727\n",
      "pH :  6.470045454545462\n",
      "Rainfall :  103.45818181818181\n"
     ]
    }
   ],
   "source": [
    "print('Average Ratio in the Soil:')\n",
    "print('Nitrogen : ', df['N'].mean())\n",
    "print('Pott : ', df['K'].mean())\n",
    "print('Possop : ', df['P'].mean())\n",
    "print('Temp : ', df['temperature'].mean())\n",
    "print('Humidity : ', df['humidity'].mean())\n",
    "print('pH : ', df['ph'].mean())\n",
    "print('Rainfall : ', df['rainfall'].mean())\n"
   ]
  },
  {
   "cell_type": "code",
   "execution_count": 7,
   "id": "9ae80f03",
   "metadata": {},
   "outputs": [
    {
     "name": "stderr",
     "output_type": "stream",
     "text": [
      "C:\\Users\\deepa\\AppData\\Roaming\\Python\\Python39\\site-packages\\seaborn\\distributions.py:2619: FutureWarning: `distplot` is a deprecated function and will be removed in a future version. Please adapt your code to use either `displot` (a figure-level function with similar flexibility) or `histplot` (an axes-level function for histograms).\n",
      "  warnings.warn(msg, FutureWarning)\n",
      "C:\\Users\\deepa\\AppData\\Roaming\\Python\\Python39\\site-packages\\seaborn\\distributions.py:2619: FutureWarning: `distplot` is a deprecated function and will be removed in a future version. Please adapt your code to use either `displot` (a figure-level function with similar flexibility) or `histplot` (an axes-level function for histograms).\n",
      "  warnings.warn(msg, FutureWarning)\n"
     ]
    },
    {
     "data": {
      "text/plain": [
       "Text(0.5, 0, 'Rainfall')"
      ]
     },
     "execution_count": 7,
     "metadata": {},
     "output_type": "execute_result"
    },
    {
     "data": {
      "image/png": "[encoded data removed]",
      "text/plain": [
       "<Figure size 432x288 with 2 Axes>"
      ]
     },
     "metadata": {
      "needs_background": "light"
     },
     "output_type": "display_data"
    }
   ],
   "source": [
    "plt.subplot(2,4,4)\n",
    "sns.distplot(df['temperature'], color='black')\n",
    "plt.xlabel('Temperature', fontsize=12)\n",
    "\n",
    "plt.subplot(2,4,5)\n",
    "sns.distplot(df['rainfall'], color='purple')\n",
    "plt.xlabel('Rainfall', fontsize=12)"
   ]
  },
  {
   "cell_type": "code",
   "execution_count": 8,
   "id": "1dac4d0f",
   "metadata": {},
   "outputs": [
    {
     "data": {
      "text/plain": [
       "<AxesSubplot:ylabel='rainfall'>"
      ]
     },
     "execution_count": 8,
     "metadata": {},
     "output_type": "execute_result"
    },
    {
     "data": {
      "image/png": "[encoded data removed]",
      "text/plain": [
       "<Figure size 432x288 with 1 Axes>"
      ]
     },
     "metadata": {
      "needs_background": "light"
     },
     "output_type": "display_data"
    }
   ],
   "source": [
    "sns.boxplot(y='rainfall', data=df)"
   ]
  },
  {
   "cell_type": "code",
   "execution_count": 9,
   "id": "d70c6ed3",
   "metadata": {},
   "outputs": [
    {
     "data": {
      "text/plain": [
       "<AxesSubplot:xlabel='K', ylabel='P'>"
      ]
     },
     "execution_count": 9,
     "metadata": {},
     "output_type": "execute_result"
    },
    {
     "data": {
      "image/png": "[encoded data removed]",
      "text/plain": [
       "<Figure size 432x288 with 1 Axes>"
      ]
     },
     "metadata": {
      "needs_background": "light"
     },
     "output_type": "display_data"
    }
   ],
   "source": [
    "sns.barplot(x='K', y='P', data=df.head(1000))"
   ]
  },
  {
   "cell_type": "code",
   "execution_count": 10,
   "id": "e6d5a0dd",
   "metadata": {},
   "outputs": [
    {
     "data": {
      "text/plain": [
       "<seaborn.axisgrid.JointGrid at 0x1b5a0e18f70>"
      ]
     },
     "execution_count": 10,
     "metadata": {},
     "output_type": "execute_result"
    },
    {
     "data": {
      "image/png": "[encoded data removed]",
      "text/plain": [
       "<Figure size 432x432 with 3 Axes>"
      ]
     },
     "metadata": {
      "needs_background": "light"
     },
     "output_type": "display_data"
    }
   ],
   "source": [
    "sns.jointplot(x='temperature', y='humidity', data=df, palette='rocket_r')"
   ]
  },
  {
   "cell_type": "code",
   "execution_count": 11,
   "id": "067f41a0",
   "metadata": {},
   "outputs": [
    {
     "name": "stdout",
     "output_type": "stream",
     "text": [
      "* * * Usefull Information * * *\n",
      "Crop required Very High Nitrogen ratio in Soil :  ['cotton']\n",
      "Crop required Very High Potassium ratio in Soil :  ['grapes' 'apple']\n",
      "Crop required Very High Phosphorous ratio in Soil :  ['grapes' 'apple']\n",
      "Crop required Very High rainfall :  ['rice' 'papaya' 'coconut']\n",
      "Crop required Very High Tempertaure :  ['grapes' 'papaya']\n",
      "Crop required Very Low Humidity :  ['chickpea' 'kidneybeans']\n",
      "Crop required Very High pH :  ['mothbeans']\n",
      "Crop required Very Low pH :  ['mothbeans']\n"
     ]
    }
   ],
   "source": [
    "print('* * * Usefull Information * * *')\n",
    "print('Crop required Very High Nitrogen ratio in Soil : ', df[df['N'] > 120]['label'].unique())\n",
    "print('Crop required Very High Potassium ratio in Soil : ', df[df['K'] > 200]['label'].unique())\n",
    "print('Crop required Very High Phosphorous ratio in Soil : ', df[df['P'] > 100]['label'].unique())\n",
    "print('Crop required Very High rainfall : ', df[df['rainfall'] > 200]['label'].unique())\n",
    "print('Crop required Very High Tempertaure : ', df[df['temperature'] > 40]['label'].unique())\n",
    "print('Crop required Very Low Humidity : ', df[df['humidity'] < 20]['label'].unique())\n",
    "print('Crop required Very High pH : ', df[df['ph'] > 9]['label'].unique())\n",
    "print('Crop required Very Low pH : ', df[df['ph'] < 4]['label'].unique())"
   ]
  },
  {
   "cell_type": "code",
   "execution_count": 12,
   "id": "25d4c2d5",
   "metadata": {},
   "outputs": [],
   "source": [
    "from sklearn.cluster import KMeans\n",
    "from sklearn.model_selection import train_test_split\n",
    "from sklearn.linear_model import LogisticRegression"
   ]
  },
  {
   "cell_type": "code",
   "execution_count": 13,
   "id": "ed05c668",
   "metadata": {},
   "outputs": [],
   "source": [
    "X = df.drop('label', axis=1)\n",
    "y = df['label']"
   ]
  },
  {
   "cell_type": "code",
   "execution_count": 14,
   "id": "aaad1286",
   "metadata": {},
   "outputs": [],
   "source": [
    "X_train, X_test, y_train, y_test = train_test_split(X, y, test_size=0.3, random_state=101)"
   ]
  },
  {
   "cell_type": "code",
   "execution_count": 15,
   "id": "3d9dc770",
   "metadata": {},
   "outputs": [],
   "source": [
    "mo = LogisticRegression()"
   ]
  },
  {
   "cell_type": "code",
   "execution_count": 23,
   "id": "f24a650f",
   "metadata": {},
   "outputs": [],
   "source": [
    "mo.fit(X_train, y_train)"
   ]
  },
  {
   "cell_type": "code",
   "execution_count": 17,
   "id": "bfd445aa",
   "metadata": {},
   "outputs": [],
   "source": [
    "pred = mo.predict(X_test)"
   ]
  },
  {
   "cell_type": "code",
   "execution_count": 18,
   "id": "a1b351bd",
   "metadata": {},
   "outputs": [],
   "source": [
    "from sklearn.metrics import confusion_matrix, classification_report"
   ]
  },
  {
   "cell_type": "code",
   "execution_count": 19,
   "id": "b0221802",
   "metadata": {},
   "outputs": [
    {
     "data": {
      "text/plain": [
       "<AxesSubplot:>"
      ]
     },
     "execution_count": 19,
     "metadata": {},
     "output_type": "execute_result"
    },
    {
     "data": {
      "image/png": "[encoded data removed]",
      "text/plain": [
       "<Figure size 720x720 with 2 Axes>"
      ]
     },
     "metadata": {
      "needs_background": "light"
     },
     "output_type": "display_data"
    }
   ],
   "source": [
    "plt.rcParams['figure.figsize'] = (10,10)\n",
    "cm = confusion_matrix(y_test, pred)\n",
    "cr = classification_report(y_test, pred)\n",
    "sns.heatmap(cm, annot = True)"
   ]
  },
  {
   "cell_type": "code",
   "execution_count": 20,
   "id": "b657a203",
   "metadata": {},
   "outputs": [
    {
     "name": "stdout",
     "output_type": "stream",
     "text": [
      "              precision    recall  f1-score   support\n",
      "\n",
      "       apple       1.00      1.00      1.00        37\n",
      "      banana       1.00      1.00      1.00        32\n",
      "   blackgram       0.89      0.86      0.87        36\n",
      "    chickpea       1.00      1.00      1.00        32\n",
      "     coconut       1.00      0.96      0.98        23\n",
      "      coffee       0.97      1.00      0.98        31\n",
      "      cotton       0.85      0.97      0.90        29\n",
      "      grapes       1.00      1.00      1.00        41\n",
      "        jute       0.85      0.85      0.85        27\n",
      " kidneybeans       1.00      1.00      1.00        30\n",
      "      lentil       1.00      0.97      0.98        29\n",
      "       maize       0.96      0.79      0.87        34\n",
      "       mango       1.00      1.00      1.00        33\n",
      "   mothbeans       0.81      0.84      0.82        25\n",
      "    mungbean       0.97      1.00      0.98        28\n",
      "   muskmelon       1.00      1.00      1.00        26\n",
      "      orange       1.00      1.00      1.00        29\n",
      "      papaya       1.00      0.88      0.93        24\n",
      "  pigeonpeas       0.89      1.00      0.94        25\n",
      " pomegranate       0.96      1.00      0.98        24\n",
      "        rice       0.88      0.91      0.89        32\n",
      "  watermelon       1.00      1.00      1.00        33\n",
      "\n",
      "    accuracy                           0.96       660\n",
      "   macro avg       0.96      0.96      0.95       660\n",
      "weighted avg       0.96      0.96      0.96       660\n",
      "\n"
     ]
    }
   ],
   "source": [
    "print(cr)"
   ]
  },
  {
   "cell_type": "code",
   "execution_count": 21,
   "id": "6f31c55f",
   "metadata": {},
   "outputs": [
    {
     "data": {
      "text/plain": [
       "array(['rice'], dtype=object)"
      ]
     },
     "execution_count": 21,
     "metadata": {},
     "output_type": "execute_result"
    }
   ],
   "source": [
    "prediction = mo.predict((np.array([[90,40,40,20,80,7,200]])))\n",
    "prediction"
   ]
  },
  {
   "cell_type": "code",
   "execution_count": 22,
   "id": "e2e6f835",
   "metadata": {},
   "outputs": [
    {
     "data": {
      "text/plain": [
       "array(['papaya'], dtype=object)"
      ]
     },
     "execution_count": 22,
     "metadata": {},
     "output_type": "execute_result"
    }
   ],
   "source": [
    "prediction = mo.predict((np.array([[70,60,80,10,80,6,200]])))\n",
    "prediction"
   ]
  },
  {
   "cell_type": "code",
   "execution_count": 23,
   "id": "1a3e7ff8",
   "metadata": {},
   "outputs": [],
   "source": [
    "import pickle\n",
    "pickle.dump(mo, open('crop.pkl',\"wb\"))\n",
    "pickle.dump(mo, open('vect.pkl',\"wb\"))"
   ]
  },
  {
   "cell_type": "code",
   "execution_count": null,
   "id": "fdbdd43b",
   "metadata": {},
   "outputs": [],
   "source": []
  }
 ],
 "metadata": {
  "kernelspec": {
   "display_name": "Python 3 (ipykernel)",
   "language": "python",
   "name": "python3"
  },
  "language_info": {
   "codemirror_mode": {
    "name": "ipython",
    "version": 3
   },
   "file_extension": ".py",
   "mimetype": "text/x-python",
   "name": "python",
   "nbconvert_exporter": "python",
   "pygments_lexer": "ipython3",
   "version": "3.9.7"
  }
 },
 "nbformat": 4,
 "nbformat_minor": 5
}
